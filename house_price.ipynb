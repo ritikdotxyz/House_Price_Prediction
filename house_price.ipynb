{
 "cells": [
  {
   "cell_type": "code",
   "execution_count": 65,
   "id": "3bdbca06-44e0-4acd-b847-c0cbc01c608a",
   "metadata": {},
   "outputs": [],
   "source": [
    "import pandas as pd\n",
    "import matplotlib.pyplot as plt\n",
    "import seaborn as sns\n",
    "import numpy as np"
   ]
  },
  {
   "cell_type": "code",
   "execution_count": 66,
   "id": "99cd52c2-2c9f-4739-94f4-2f4fb79100a5",
   "metadata": {},
   "outputs": [],
   "source": [
    "df = pd.read_csv(\"dataset/house.csv\")"
   ]
  },
  {
   "cell_type": "code",
   "execution_count": 67,
   "id": "a4e61df1-583c-498e-83f5-aba46afdc148",
   "metadata": {},
   "outputs": [
    {
     "data": {
      "text/html": [
       "<div>\n",
       "<style scoped>\n",
       "    .dataframe tbody tr th:only-of-type {\n",
       "        vertical-align: middle;\n",
       "    }\n",
       "\n",
       "    .dataframe tbody tr th {\n",
       "        vertical-align: top;\n",
       "    }\n",
       "\n",
       "    .dataframe thead th {\n",
       "        text-align: right;\n",
       "    }\n",
       "</style>\n",
       "<table border=\"1\" class=\"dataframe\">\n",
       "  <thead>\n",
       "    <tr style=\"text-align: right;\">\n",
       "      <th></th>\n",
       "      <th>location</th>\n",
       "      <th>Bed</th>\n",
       "      <th>Bath</th>\n",
       "      <th>Ft</th>\n",
       "      <th>price</th>\n",
       "    </tr>\n",
       "  </thead>\n",
       "  <tbody>\n",
       "    <tr>\n",
       "      <th>0</th>\n",
       "      <td>Texas</td>\n",
       "      <td>4.0</td>\n",
       "      <td>2.5</td>\n",
       "      <td>1889.0</td>\n",
       "      <td>239000.0</td>\n",
       "    </tr>\n",
       "    <tr>\n",
       "      <th>1</th>\n",
       "      <td>Texas</td>\n",
       "      <td>3.0</td>\n",
       "      <td>1.0</td>\n",
       "      <td>1228.0</td>\n",
       "      <td>180000.0</td>\n",
       "    </tr>\n",
       "    <tr>\n",
       "      <th>2</th>\n",
       "      <td>Texas</td>\n",
       "      <td>2.0</td>\n",
       "      <td>1.0</td>\n",
       "      <td>1032.0</td>\n",
       "      <td>195000.0</td>\n",
       "    </tr>\n",
       "    <tr>\n",
       "      <th>3</th>\n",
       "      <td>Texas</td>\n",
       "      <td>3.0</td>\n",
       "      <td>2.0</td>\n",
       "      <td>2331.0</td>\n",
       "      <td>290000.0</td>\n",
       "    </tr>\n",
       "    <tr>\n",
       "      <th>4</th>\n",
       "      <td>Texas</td>\n",
       "      <td>4.0</td>\n",
       "      <td>2.0</td>\n",
       "      <td>1754.0</td>\n",
       "      <td>265000.0</td>\n",
       "    </tr>\n",
       "  </tbody>\n",
       "</table>\n",
       "</div>"
      ],
      "text/plain": [
       "  location  Bed  Bath      Ft     price\n",
       "0    Texas  4.0   2.5  1889.0  239000.0\n",
       "1    Texas  3.0   1.0  1228.0  180000.0\n",
       "2    Texas  2.0   1.0  1032.0  195000.0\n",
       "3    Texas  3.0   2.0  2331.0  290000.0\n",
       "4    Texas  4.0   2.0  1754.0  265000.0"
      ]
     },
     "execution_count": 67,
     "metadata": {},
     "output_type": "execute_result"
    }
   ],
   "source": [
    "df.head()"
   ]
  },
  {
   "cell_type": "code",
   "execution_count": 68,
   "id": "a7cb6f1a-64e5-42f9-81b1-0ccdc45aaad6",
   "metadata": {},
   "outputs": [
    {
     "data": {
      "text/plain": [
       "(2588, 5)"
      ]
     },
     "execution_count": 68,
     "metadata": {},
     "output_type": "execute_result"
    }
   ],
   "source": [
    "df.shape"
   ]
  },
  {
   "cell_type": "code",
   "execution_count": 69,
   "id": "4eeb5848-e2f3-4bd3-abd3-89785fb51f22",
   "metadata": {},
   "outputs": [],
   "source": [
    "df = df = df.rename(columns={'Bed': 'bedroom', 'Bath': 'bathroom', 'Ft': 'square_ft'})"
   ]
  },
  {
   "cell_type": "code",
   "execution_count": 70,
   "id": "e26f4e89-3f3f-421b-a031-d59b9c3a9f35",
   "metadata": {},
   "outputs": [
    {
     "name": "stdout",
     "output_type": "stream",
     "text": [
      "<class 'pandas.core.frame.DataFrame'>\n",
      "RangeIndex: 2588 entries, 0 to 2587\n",
      "Data columns (total 5 columns):\n",
      " #   Column     Non-Null Count  Dtype  \n",
      "---  ------     --------------  -----  \n",
      " 0   location   2588 non-null   object \n",
      " 1   bedroom    2574 non-null   float64\n",
      " 2   bathroom   2551 non-null   float64\n",
      " 3   square_ft  2500 non-null   float64\n",
      " 4   price      2588 non-null   float64\n",
      "dtypes: float64(4), object(1)\n",
      "memory usage: 101.2+ KB\n"
     ]
    }
   ],
   "source": [
    "df.info()"
   ]
  },
  {
   "cell_type": "code",
   "execution_count": 71,
   "id": "36243a08-ea3e-4034-8e9b-cb1abbb5ba37",
   "metadata": {},
   "outputs": [
    {
     "data": {
      "text/plain": [
       "location      0\n",
       "bedroom      14\n",
       "bathroom     37\n",
       "square_ft    88\n",
       "price         0\n",
       "dtype: int64"
      ]
     },
     "execution_count": 71,
     "metadata": {},
     "output_type": "execute_result"
    }
   ],
   "source": [
    "df.isnull().sum()"
   ]
  },
  {
   "cell_type": "code",
   "execution_count": 72,
   "id": "e9d48ce1-5dfc-470f-bcd9-d719b80b86d0",
   "metadata": {},
   "outputs": [],
   "source": [
    "df.dropna(inplace=True)"
   ]
  },
  {
   "cell_type": "code",
   "execution_count": 73,
   "id": "6dbf0d68-5560-4754-a8c2-96eb56c67d4a",
   "metadata": {},
   "outputs": [
    {
     "data": {
      "text/plain": [
       "np.int64(22)"
      ]
     },
     "execution_count": 73,
     "metadata": {},
     "output_type": "execute_result"
    }
   ],
   "source": [
    "df.duplicated().sum()"
   ]
  },
  {
   "cell_type": "code",
   "execution_count": 74,
   "id": "0d9212df-3092-4a9f-a4df-34362a510a08",
   "metadata": {},
   "outputs": [],
   "source": [
    "df = df.drop_duplicates()"
   ]
  },
  {
   "cell_type": "code",
   "execution_count": 75,
   "id": "cc546fba-2e5b-41f0-b9e4-a5e31c822c88",
   "metadata": {},
   "outputs": [
    {
     "data": {
      "text/plain": [
       "(2439, 5)"
      ]
     },
     "execution_count": 75,
     "metadata": {},
     "output_type": "execute_result"
    }
   ],
   "source": [
    "df.shape"
   ]
  },
  {
   "cell_type": "code",
   "execution_count": 76,
   "id": "8f5947ca-1e7d-4bd0-87a4-6bc8c7aa0a16",
   "metadata": {},
   "outputs": [
    {
     "name": "stdout",
     "output_type": "stream",
     "text": [
      "<class 'pandas.core.frame.DataFrame'>\n",
      "Index: 2439 entries, 0 to 2587\n",
      "Data columns (total 5 columns):\n",
      " #   Column     Non-Null Count  Dtype  \n",
      "---  ------     --------------  -----  \n",
      " 0   location   2439 non-null   object \n",
      " 1   bedroom    2439 non-null   float64\n",
      " 2   bathroom   2439 non-null   float64\n",
      " 3   square_ft  2439 non-null   float64\n",
      " 4   price      2439 non-null   float64\n",
      "dtypes: float64(4), object(1)\n",
      "memory usage: 114.3+ KB\n"
     ]
    }
   ],
   "source": [
    "df.info()"
   ]
  },
  {
   "cell_type": "code",
   "execution_count": 77,
   "id": "061cbc83-f8eb-492a-a086-7bb62533cf86",
   "metadata": {},
   "outputs": [
    {
     "data": {
      "text/html": [
       "<div>\n",
       "<style scoped>\n",
       "    .dataframe tbody tr th:only-of-type {\n",
       "        vertical-align: middle;\n",
       "    }\n",
       "\n",
       "    .dataframe tbody tr th {\n",
       "        vertical-align: top;\n",
       "    }\n",
       "\n",
       "    .dataframe thead th {\n",
       "        text-align: right;\n",
       "    }\n",
       "</style>\n",
       "<table border=\"1\" class=\"dataframe\">\n",
       "  <thead>\n",
       "    <tr style=\"text-align: right;\">\n",
       "      <th></th>\n",
       "      <th>bedroom</th>\n",
       "      <th>bathroom</th>\n",
       "      <th>square_ft</th>\n",
       "      <th>price</th>\n",
       "    </tr>\n",
       "  </thead>\n",
       "  <tbody>\n",
       "    <tr>\n",
       "      <th>count</th>\n",
       "      <td>2439.000000</td>\n",
       "      <td>2439.000000</td>\n",
       "      <td>2439.000000</td>\n",
       "      <td>2.439000e+03</td>\n",
       "    </tr>\n",
       "    <tr>\n",
       "      <th>mean</th>\n",
       "      <td>3.467405</td>\n",
       "      <td>2.425174</td>\n",
       "      <td>2055.924969</td>\n",
       "      <td>7.199954e+05</td>\n",
       "    </tr>\n",
       "    <tr>\n",
       "      <th>std</th>\n",
       "      <td>1.099847</td>\n",
       "      <td>1.137780</td>\n",
       "      <td>1262.052149</td>\n",
       "      <td>1.256238e+06</td>\n",
       "    </tr>\n",
       "    <tr>\n",
       "      <th>min</th>\n",
       "      <td>1.000000</td>\n",
       "      <td>0.500000</td>\n",
       "      <td>14.000000</td>\n",
       "      <td>2.499000e+04</td>\n",
       "    </tr>\n",
       "    <tr>\n",
       "      <th>25%</th>\n",
       "      <td>3.000000</td>\n",
       "      <td>2.000000</td>\n",
       "      <td>1312.000000</td>\n",
       "      <td>3.150000e+05</td>\n",
       "    </tr>\n",
       "    <tr>\n",
       "      <th>50%</th>\n",
       "      <td>3.000000</td>\n",
       "      <td>2.000000</td>\n",
       "      <td>1800.000000</td>\n",
       "      <td>4.880000e+05</td>\n",
       "    </tr>\n",
       "    <tr>\n",
       "      <th>75%</th>\n",
       "      <td>4.000000</td>\n",
       "      <td>3.000000</td>\n",
       "      <td>2421.000000</td>\n",
       "      <td>7.880000e+05</td>\n",
       "    </tr>\n",
       "    <tr>\n",
       "      <th>max</th>\n",
       "      <td>12.000000</td>\n",
       "      <td>13.000000</td>\n",
       "      <td>23824.000000</td>\n",
       "      <td>3.000000e+07</td>\n",
       "    </tr>\n",
       "  </tbody>\n",
       "</table>\n",
       "</div>"
      ],
      "text/plain": [
       "           bedroom     bathroom     square_ft         price\n",
       "count  2439.000000  2439.000000   2439.000000  2.439000e+03\n",
       "mean      3.467405     2.425174   2055.924969  7.199954e+05\n",
       "std       1.099847     1.137780   1262.052149  1.256238e+06\n",
       "min       1.000000     0.500000     14.000000  2.499000e+04\n",
       "25%       3.000000     2.000000   1312.000000  3.150000e+05\n",
       "50%       3.000000     2.000000   1800.000000  4.880000e+05\n",
       "75%       4.000000     3.000000   2421.000000  7.880000e+05\n",
       "max      12.000000    13.000000  23824.000000  3.000000e+07"
      ]
     },
     "execution_count": 77,
     "metadata": {},
     "output_type": "execute_result"
    }
   ],
   "source": [
    "df.describe()"
   ]
  },
  {
   "cell_type": "code",
   "execution_count": 78,
   "id": "eb62cb35-77c6-49bb-bce9-1ac2c8910123",
   "metadata": {},
   "outputs": [
    {
     "data": {
      "text/plain": [
       "<Axes: xlabel='bedroom', ylabel='count'>"
      ]
     },
     "execution_count": 78,
     "metadata": {},
     "output_type": "execute_result"
    },
    {
     "data": {
      "image/png": "[encoded data removed]",
      "text/plain": [
       "<Figure size 640x480 with 1 Axes>"
      ]
     },
     "metadata": {},
     "output_type": "display_data"
    }
   ],
   "source": [
    "sns.countplot(x=df[\"bedroom\"])"
   ]
  },
  {
   "cell_type": "code",
   "execution_count": 79,
   "id": "2500a8aa-1e7b-469b-97e4-07ffffa21e32",
   "metadata": {},
   "outputs": [
    {
     "data": {
      "text/plain": [
       "(array([1.80e+03, 5.71e+02, 4.60e+01, 1.30e+01, 5.00e+00, 3.00e+00,\n",
       "        0.00e+00, 0.00e+00, 0.00e+00, 1.00e+00]),\n",
       " array([1.4000e+01, 2.3950e+03, 4.7760e+03, 7.1570e+03, 9.5380e+03,\n",
       "        1.1919e+04, 1.4300e+04, 1.6681e+04, 1.9062e+04, 2.1443e+04,\n",
       "        2.3824e+04]),\n",
       " <BarContainer object of 10 artists>)"
      ]
     },
     "execution_count": 79,
     "metadata": {},
     "output_type": "execute_result"
    },
    {
     "data": {
      "image/png": "[encoded data removed]",
      "text/plain": [
       "<Figure size 640x480 with 1 Axes>"
      ]
     },
     "metadata": {},
     "output_type": "display_data"
    }
   ],
   "source": [
    "plt.hist(x=df[\"square_ft\"])"
   ]
  },
  {
   "cell_type": "code",
   "execution_count": 80,
   "id": "620e240f-325d-49ee-92ab-2d2a55651bd4",
   "metadata": {},
   "outputs": [
    {
     "data": {
      "text/plain": [
       "<seaborn.axisgrid.FacetGrid at 0x7201866d47d0>"
      ]
     },
     "execution_count": 80,
     "metadata": {},
     "output_type": "execute_result"
    },
    {
     "data": {
      "image/png": "[encoded data removed]",
      "text/plain": [
       "<Figure size 500x500 with 1 Axes>"
      ]
     },
     "metadata": {},
     "output_type": "display_data"
    }
   ],
   "source": [
    "sns.displot(df[\"price\"])"
   ]
  },
  {
   "cell_type": "code",
   "execution_count": 81,
   "id": "b55a8aa7-04c8-4b61-bfba-88680e0119a3",
   "metadata": {},
   "outputs": [
    {
     "data": {
      "text/plain": [
       "{'whiskers': [<matplotlib.lines.Line2D at 0x7201862839d0>,\n",
       "  <matplotlib.lines.Line2D at 0x720186283b10>],\n",
       " 'caps': [<matplotlib.lines.Line2D at 0x720186283c50>,\n",
       "  <matplotlib.lines.Line2D at 0x720186283d90>],\n",
       " 'boxes': [<matplotlib.lines.Line2D at 0x720186283890>],\n",
       " 'medians': [<matplotlib.lines.Line2D at 0x720186283ed0>],\n",
       " 'fliers': [<matplotlib.lines.Line2D at 0x7201862e8050>],\n",
       " 'means': []}"
      ]
     },
     "execution_count": 81,
     "metadata": {},
     "output_type": "execute_result"
    },
    {
     "data": {
      "image/png": "[encoded data removed]",
      "text/plain": [
       "<Figure size 640x480 with 1 Axes>"
      ]
     },
     "metadata": {},
     "output_type": "display_data"
    }
   ],
   "source": [
    "plt.boxplot(df[\"bedroom\"])"
   ]
  },
  {
   "cell_type": "code",
   "execution_count": 82,
   "id": "f9dd71bf-1fc3-4ddd-b6d8-b7ae0037fc12",
   "metadata": {},
   "outputs": [
    {
     "data": {
      "text/plain": [
       "{'whiskers': [<matplotlib.lines.Line2D at 0x720186316d50>,\n",
       "  <matplotlib.lines.Line2D at 0x720186316e90>],\n",
       " 'caps': [<matplotlib.lines.Line2D at 0x720186316fd0>,\n",
       "  <matplotlib.lines.Line2D at 0x720186317110>],\n",
       " 'boxes': [<matplotlib.lines.Line2D at 0x720186316c10>],\n",
       " 'medians': [<matplotlib.lines.Line2D at 0x720186317250>],\n",
       " 'fliers': [<matplotlib.lines.Line2D at 0x720186317390>],\n",
       " 'means': []}"
      ]
     },
     "execution_count": 82,
     "metadata": {},
     "output_type": "execute_result"
    },
    {
     "data": {
      "image/png": "[encoded data removed]",
      "text/plain": [
       "<Figure size 640x480 with 1 Axes>"
      ]
     },
     "metadata": {},
     "output_type": "display_data"
    }
   ],
   "source": [
    "plt.boxplot(df[\"price\"])"
   ]
  },
  {
   "cell_type": "code",
   "execution_count": 83,
   "id": "68f80e18-8aea-4df0-ba45-bcf34a3e918c",
   "metadata": {},
   "outputs": [
    {
     "data": {
      "text/plain": [
       "<Axes: xlabel='square_ft', ylabel='price'>"
      ]
     },
     "execution_count": 83,
     "metadata": {},
     "output_type": "execute_result"
    },
    {
     "data": {
      "image/png": "[encoded data removed]",
      "text/plain": [
       "<Figure size 640x480 with 1 Axes>"
      ]
     },
     "metadata": {},
     "output_type": "display_data"
    }
   ],
   "source": [
    "sns.scatterplot(x=df[\"square_ft\"], y=df[\"price\"], hue=df[\"bathroom\"])"
   ]
  },
  {
   "cell_type": "code",
   "execution_count": 84,
   "id": "00ea16ad-0dcc-4c79-bfac-fc66eec53858",
   "metadata": {},
   "outputs": [
    {
     "data": {
      "text/plain": [
       "<Axes: ylabel='price'>"
      ]
     },
     "execution_count": 84,
     "metadata": {},
     "output_type": "execute_result"
    },
    {
     "data": {
      "image/png": "[encoded data removed]",
      "text/plain": [
       "<Figure size 640x480 with 1 Axes>"
      ]
     },
     "metadata": {},
     "output_type": "display_data"
    }
   ],
   "source": [
    "sns.boxplot(df[\"price\"])"
   ]
  },
  {
   "cell_type": "code",
   "execution_count": 85,
   "id": "1d050d42-23db-42d9-b251-a9197c22b9a8",
   "metadata": {},
   "outputs": [],
   "source": [
    "Q1 = df[\"bedroom\"].quantile(0.25)\n",
    "Q3 = df[\"bedroom\"].quantile(0.75)\n",
    "IQR = Q3 - Q1\n",
    "lower_bound = Q1 - 1.5 * IQR\n",
    "upper_bound = Q3 + 1.5 * IQR\n",
    "df = df[(df[\"bedroom\"] >= lower_bound) & (df[\"bedroom\"] <= upper_bound)]"
   ]
  },
  {
   "cell_type": "code",
   "execution_count": 86,
   "id": "6bd4473d-3418-48ce-8c9b-97b734957fe7",
   "metadata": {},
   "outputs": [
    {
     "data": {
      "text/plain": [
       "<Axes: ylabel='bedroom'>"
      ]
     },
     "execution_count": 86,
     "metadata": {},
     "output_type": "execute_result"
    },
    {
     "data": {
      "image/png": "[encoded data removed]",
      "text/plain": [
       "<Figure size 640x480 with 1 Axes>"
      ]
     },
     "metadata": {},
     "output_type": "display_data"
    }
   ],
   "source": [
    "sns.boxplot(df[\"bedroom\"])"
   ]
  },
  {
   "cell_type": "code",
   "execution_count": 87,
   "id": "40c9b996-8c62-47ab-8576-160eedd4aa3f",
   "metadata": {},
   "outputs": [],
   "source": [
    "Q1 = df[\"bathroom\"].quantile(0.25)\n",
    "Q3 = df[\"bathroom\"].quantile(0.75)\n",
    "IQR = Q3 - Q1\n",
    "lower_bound = Q1 - 1.5 * IQR\n",
    "upper_bound = Q3 + 1.5 * IQR\n",
    "df = df[(df[\"bathroom\"] >= lower_bound) & (df[\"bathroom\"] <= upper_bound)]"
   ]
  },
  {
   "cell_type": "code",
   "execution_count": 88,
   "id": "58bdd4d7-b304-45e3-a461-f7a531a7d85c",
   "metadata": {},
   "outputs": [
    {
     "data": {
      "text/plain": [
       "<Axes: ylabel='bathroom'>"
      ]
     },
     "execution_count": 88,
     "metadata": {},
     "output_type": "execute_result"
    },
    {
     "data": {
      "image/png": "[encoded data removed]",
      "text/plain": [
       "<Figure size 640x480 with 1 Axes>"
      ]
     },
     "metadata": {},
     "output_type": "display_data"
    }
   ],
   "source": [
    "sns.boxplot(df[\"bathroom\"])"
   ]
  },
  {
   "cell_type": "code",
   "execution_count": 89,
   "id": "d6ace0d5-bcaa-4172-824a-625698416aca",
   "metadata": {},
   "outputs": [],
   "source": [
    "Q1 = df[\"square_ft\"].quantile(0.25)\n",
    "Q3 = df[\"square_ft\"].quantile(0.75)\n",
    "IQR = Q3 - Q1\n",
    "lower_bound = Q1 - 1.5 * IQR\n",
    "upper_bound = Q3 + 1.5 * IQR\n",
    "df = df[(df[\"square_ft\"] >= lower_bound) & (df[\"square_ft\"] <= upper_bound)]"
   ]
  },
  {
   "cell_type": "code",
   "execution_count": 90,
   "id": "90f7e436-c70d-4898-a283-331cc7172902",
   "metadata": {},
   "outputs": [
    {
     "data": {
      "text/plain": [
       "<Axes: ylabel='square_ft'>"
      ]
     },
     "execution_count": 90,
     "metadata": {},
     "output_type": "execute_result"
    },
    {
     "data": {
      "image/png": "[encoded data removed]",
      "text/plain": [
       "<Figure size 640x480 with 1 Axes>"
      ]
     },
     "metadata": {},
     "output_type": "display_data"
    }
   ],
   "source": [
    "sns.boxplot(df[\"square_ft\"])"
   ]
  },
  {
   "cell_type": "code",
   "execution_count": 91,
   "id": "cf607ab9-5545-4997-80fa-e8f06a27a3da",
   "metadata": {},
   "outputs": [
    {
     "data": {
      "text/plain": [
       "<seaborn.axisgrid.FacetGrid at 0x720185fd4690>"
      ]
     },
     "execution_count": 91,
     "metadata": {},
     "output_type": "execute_result"
    },
    {
     "data": {
      "image/png": "[encoded data removed]",
      "text/plain": [
       "<Figure size 500x500 with 1 Axes>"
      ]
     },
     "metadata": {},
     "output_type": "display_data"
    }
   ],
   "source": [
    "sns.displot(df[\"bathroom\"],kind=\"kde\")"
   ]
  },
  {
   "cell_type": "code",
   "execution_count": 92,
   "id": "204e4299-22b3-42c4-a193-4ed4bff01e9b",
   "metadata": {},
   "outputs": [],
   "source": [
    "Q1 = df[\"price\"].quantile(0.25)\n",
    "Q3 = df[\"price\"].quantile(0.75)\n",
    "IQR = Q3 - Q1\n",
    "lower_bound = Q1 - 1.5 * IQR\n",
    "upper_bound = Q3 + 1.5 * IQR\n",
    "df = df[(df[\"price\"] >= lower_bound) & (df[\"price\"] <= upper_bound)]"
   ]
  },
  {
   "cell_type": "code",
   "execution_count": 93,
   "id": "1317eae7-8d5b-4f55-b66f-eaef54d69dce",
   "metadata": {},
   "outputs": [
    {
     "data": {
      "text/plain": [
       "<Axes: ylabel='price'>"
      ]
     },
     "execution_count": 93,
     "metadata": {},
     "output_type": "execute_result"
    },
    {
     "data": {
      "image/png": "[encoded data removed]",
      "text/plain": [
       "<Figure size 640x480 with 1 Axes>"
      ]
     },
     "metadata": {},
     "output_type": "display_data"
    }
   ],
   "source": [
    "sns.boxplot(df[\"price\"])"
   ]
  },
  {
   "cell_type": "code",
   "execution_count": 94,
   "id": "0f642077-a744-4430-85a4-f7aa7a4463d8",
   "metadata": {},
   "outputs": [],
   "source": [
    "df[\"bedroom\"] = np.log1p(df[\"bedroom\"])"
   ]
  },
  {
   "cell_type": "code",
   "execution_count": 95,
   "id": "b2b78a93-9da2-4e35-bc23-21a26ee53162",
   "metadata": {},
   "outputs": [
    {
     "data": {
      "text/plain": [
       "<seaborn.axisgrid.FacetGrid at 0x720185e9ed50>"
      ]
     },
     "execution_count": 95,
     "metadata": {},
     "output_type": "execute_result"
    },
    {
     "data": {
      "image/png": "[encoded data removed]",
      "text/plain": [
       "<Figure size 500x500 with 1 Axes>"
      ]
     },
     "metadata": {},
     "output_type": "display_data"
    }
   ],
   "source": [
    "sns.displot(df[\"bedroom\"],kind=\"kde\")"
   ]
  },
  {
   "cell_type": "code",
   "execution_count": 96,
   "id": "e545a110-0193-4f9a-b4e2-32942f7676d2",
   "metadata": {},
   "outputs": [],
   "source": [
    "df[\"bathroom\"] = np.log1p(df[\"bathroom\"])"
   ]
  },
  {
   "cell_type": "code",
   "execution_count": 97,
   "id": "8bd593c9-15e4-4e5e-8cba-ea02e1a6bea9",
   "metadata": {},
   "outputs": [
    {
     "data": {
      "text/plain": [
       "<seaborn.axisgrid.FacetGrid at 0x720185effd90>"
      ]
     },
     "execution_count": 97,
     "metadata": {},
     "output_type": "execute_result"
    },
    {
     "data": {
      "image/png": "[encoded data removed]",
      "text/plain": [
       "<Figure size 500x500 with 1 Axes>"
      ]
     },
     "metadata": {},
     "output_type": "display_data"
    }
   ],
   "source": [
    "sns.displot(df[\"bathroom\"],kind=\"kde\")\n"
   ]
  },
  {
   "cell_type": "code",
   "execution_count": 98,
   "id": "3365625e-66ad-416a-bad8-baa2855ec9d6",
   "metadata": {},
   "outputs": [
    {
     "data": {
      "text/html": [
       "<div>\n",
       "<style scoped>\n",
       "    .dataframe tbody tr th:only-of-type {\n",
       "        vertical-align: middle;\n",
       "    }\n",
       "\n",
       "    .dataframe tbody tr th {\n",
       "        vertical-align: top;\n",
       "    }\n",
       "\n",
       "    .dataframe thead th {\n",
       "        text-align: right;\n",
       "    }\n",
       "</style>\n",
       "<table border=\"1\" class=\"dataframe\">\n",
       "  <thead>\n",
       "    <tr style=\"text-align: right;\">\n",
       "      <th></th>\n",
       "      <th>Chicago</th>\n",
       "      <th>New York</th>\n",
       "      <th>Texas</th>\n",
       "    </tr>\n",
       "  </thead>\n",
       "  <tbody>\n",
       "    <tr>\n",
       "      <th>0</th>\n",
       "      <td>False</td>\n",
       "      <td>False</td>\n",
       "      <td>True</td>\n",
       "    </tr>\n",
       "    <tr>\n",
       "      <th>1</th>\n",
       "      <td>False</td>\n",
       "      <td>False</td>\n",
       "      <td>True</td>\n",
       "    </tr>\n",
       "    <tr>\n",
       "      <th>2</th>\n",
       "      <td>False</td>\n",
       "      <td>False</td>\n",
       "      <td>True</td>\n",
       "    </tr>\n",
       "    <tr>\n",
       "      <th>3</th>\n",
       "      <td>False</td>\n",
       "      <td>False</td>\n",
       "      <td>True</td>\n",
       "    </tr>\n",
       "    <tr>\n",
       "      <th>4</th>\n",
       "      <td>False</td>\n",
       "      <td>False</td>\n",
       "      <td>True</td>\n",
       "    </tr>\n",
       "    <tr>\n",
       "      <th>...</th>\n",
       "      <td>...</td>\n",
       "      <td>...</td>\n",
       "      <td>...</td>\n",
       "    </tr>\n",
       "    <tr>\n",
       "      <th>2582</th>\n",
       "      <td>True</td>\n",
       "      <td>False</td>\n",
       "      <td>False</td>\n",
       "    </tr>\n",
       "    <tr>\n",
       "      <th>2583</th>\n",
       "      <td>True</td>\n",
       "      <td>False</td>\n",
       "      <td>False</td>\n",
       "    </tr>\n",
       "    <tr>\n",
       "      <th>2585</th>\n",
       "      <td>True</td>\n",
       "      <td>False</td>\n",
       "      <td>False</td>\n",
       "    </tr>\n",
       "    <tr>\n",
       "      <th>2586</th>\n",
       "      <td>True</td>\n",
       "      <td>False</td>\n",
       "      <td>False</td>\n",
       "    </tr>\n",
       "    <tr>\n",
       "      <th>2587</th>\n",
       "      <td>True</td>\n",
       "      <td>False</td>\n",
       "      <td>False</td>\n",
       "    </tr>\n",
       "  </tbody>\n",
       "</table>\n",
       "<p>2077 rows × 3 columns</p>\n",
       "</div>"
      ],
      "text/plain": [
       "      Chicago  New York  Texas\n",
       "0       False     False   True\n",
       "1       False     False   True\n",
       "2       False     False   True\n",
       "3       False     False   True\n",
       "4       False     False   True\n",
       "...       ...       ...    ...\n",
       "2582     True     False  False\n",
       "2583     True     False  False\n",
       "2585     True     False  False\n",
       "2586     True     False  False\n",
       "2587     True     False  False\n",
       "\n",
       "[2077 rows x 3 columns]"
      ]
     },
     "execution_count": 98,
     "metadata": {},
     "output_type": "execute_result"
    }
   ],
   "source": [
    "one_hot = pd.get_dummies(df['location'], drop_first=True)\n",
    "one_hot"
   ]
  },
  {
   "cell_type": "code",
   "execution_count": 99,
   "id": "0a39b107-6b02-4009-b70f-87ea8b054905",
   "metadata": {},
   "outputs": [],
   "source": [
    "df = df.drop('location' ,axis = 1)"
   ]
  },
  {
   "cell_type": "code",
   "execution_count": 100,
   "id": "0afbaac8-a1cd-4706-83df-2367fd7ee3f7",
   "metadata": {},
   "outputs": [
    {
     "data": {
      "text/html": [
       "<div>\n",
       "<style scoped>\n",
       "    .dataframe tbody tr th:only-of-type {\n",
       "        vertical-align: middle;\n",
       "    }\n",
       "\n",
       "    .dataframe tbody tr th {\n",
       "        vertical-align: top;\n",
       "    }\n",
       "\n",
       "    .dataframe thead th {\n",
       "        text-align: right;\n",
       "    }\n",
       "</style>\n",
       "<table border=\"1\" class=\"dataframe\">\n",
       "  <thead>\n",
       "    <tr style=\"text-align: right;\">\n",
       "      <th></th>\n",
       "      <th>bedroom</th>\n",
       "      <th>bathroom</th>\n",
       "      <th>square_ft</th>\n",
       "      <th>price</th>\n",
       "    </tr>\n",
       "  </thead>\n",
       "  <tbody>\n",
       "    <tr>\n",
       "      <th>0</th>\n",
       "      <td>1.609438</td>\n",
       "      <td>1.252763</td>\n",
       "      <td>1889.0</td>\n",
       "      <td>239000.0</td>\n",
       "    </tr>\n",
       "    <tr>\n",
       "      <th>1</th>\n",
       "      <td>1.386294</td>\n",
       "      <td>0.693147</td>\n",
       "      <td>1228.0</td>\n",
       "      <td>180000.0</td>\n",
       "    </tr>\n",
       "    <tr>\n",
       "      <th>2</th>\n",
       "      <td>1.098612</td>\n",
       "      <td>0.693147</td>\n",
       "      <td>1032.0</td>\n",
       "      <td>195000.0</td>\n",
       "    </tr>\n",
       "    <tr>\n",
       "      <th>3</th>\n",
       "      <td>1.386294</td>\n",
       "      <td>1.098612</td>\n",
       "      <td>2331.0</td>\n",
       "      <td>290000.0</td>\n",
       "    </tr>\n",
       "    <tr>\n",
       "      <th>4</th>\n",
       "      <td>1.609438</td>\n",
       "      <td>1.098612</td>\n",
       "      <td>1754.0</td>\n",
       "      <td>265000.0</td>\n",
       "    </tr>\n",
       "  </tbody>\n",
       "</table>\n",
       "</div>"
      ],
      "text/plain": [
       "    bedroom  bathroom  square_ft     price\n",
       "0  1.609438  1.252763     1889.0  239000.0\n",
       "1  1.386294  0.693147     1228.0  180000.0\n",
       "2  1.098612  0.693147     1032.0  195000.0\n",
       "3  1.386294  1.098612     2331.0  290000.0\n",
       "4  1.609438  1.098612     1754.0  265000.0"
      ]
     },
     "execution_count": 100,
     "metadata": {},
     "output_type": "execute_result"
    }
   ],
   "source": [
    "df.head()"
   ]
  },
  {
   "cell_type": "code",
   "execution_count": 101,
   "id": "813e31f2-9b97-4dd1-8d16-716d3a000cad",
   "metadata": {},
   "outputs": [
    {
     "data": {
      "text/html": [
       "<div>\n",
       "<style scoped>\n",
       "    .dataframe tbody tr th:only-of-type {\n",
       "        vertical-align: middle;\n",
       "    }\n",
       "\n",
       "    .dataframe tbody tr th {\n",
       "        vertical-align: top;\n",
       "    }\n",
       "\n",
       "    .dataframe thead th {\n",
       "        text-align: right;\n",
       "    }\n",
       "</style>\n",
       "<table border=\"1\" class=\"dataframe\">\n",
       "  <thead>\n",
       "    <tr style=\"text-align: right;\">\n",
       "      <th></th>\n",
       "      <th>bedroom</th>\n",
       "      <th>bathroom</th>\n",
       "      <th>square_ft</th>\n",
       "      <th>price</th>\n",
       "      <th>Chicago</th>\n",
       "      <th>New York</th>\n",
       "      <th>Texas</th>\n",
       "    </tr>\n",
       "  </thead>\n",
       "  <tbody>\n",
       "    <tr>\n",
       "      <th>0</th>\n",
       "      <td>1.609438</td>\n",
       "      <td>1.252763</td>\n",
       "      <td>1889.0</td>\n",
       "      <td>239000.0</td>\n",
       "      <td>False</td>\n",
       "      <td>False</td>\n",
       "      <td>True</td>\n",
       "    </tr>\n",
       "    <tr>\n",
       "      <th>1</th>\n",
       "      <td>1.386294</td>\n",
       "      <td>0.693147</td>\n",
       "      <td>1228.0</td>\n",
       "      <td>180000.0</td>\n",
       "      <td>False</td>\n",
       "      <td>False</td>\n",
       "      <td>True</td>\n",
       "    </tr>\n",
       "    <tr>\n",
       "      <th>2</th>\n",
       "      <td>1.098612</td>\n",
       "      <td>0.693147</td>\n",
       "      <td>1032.0</td>\n",
       "      <td>195000.0</td>\n",
       "      <td>False</td>\n",
       "      <td>False</td>\n",
       "      <td>True</td>\n",
       "    </tr>\n",
       "    <tr>\n",
       "      <th>3</th>\n",
       "      <td>1.386294</td>\n",
       "      <td>1.098612</td>\n",
       "      <td>2331.0</td>\n",
       "      <td>290000.0</td>\n",
       "      <td>False</td>\n",
       "      <td>False</td>\n",
       "      <td>True</td>\n",
       "    </tr>\n",
       "    <tr>\n",
       "      <th>4</th>\n",
       "      <td>1.609438</td>\n",
       "      <td>1.098612</td>\n",
       "      <td>1754.0</td>\n",
       "      <td>265000.0</td>\n",
       "      <td>False</td>\n",
       "      <td>False</td>\n",
       "      <td>True</td>\n",
       "    </tr>\n",
       "  </tbody>\n",
       "</table>\n",
       "</div>"
      ],
      "text/plain": [
       "    bedroom  bathroom  square_ft     price  Chicago  New York  Texas\n",
       "0  1.609438  1.252763     1889.0  239000.0    False     False   True\n",
       "1  1.386294  0.693147     1228.0  180000.0    False     False   True\n",
       "2  1.098612  0.693147     1032.0  195000.0    False     False   True\n",
       "3  1.386294  1.098612     2331.0  290000.0    False     False   True\n",
       "4  1.609438  1.098612     1754.0  265000.0    False     False   True"
      ]
     },
     "execution_count": 101,
     "metadata": {},
     "output_type": "execute_result"
    }
   ],
   "source": [
    "df = df.join(one_hot)\n",
    "df.head()"
   ]
  },
  {
   "cell_type": "code",
   "execution_count": 102,
   "id": "6c1fbb34-86ee-4f5e-8292-7948ab1fcb9f",
   "metadata": {},
   "outputs": [],
   "source": [
    "X = df.drop(\"price\",axis=1)\n",
    "y = df[\"price\"]"
   ]
  },
  {
   "cell_type": "code",
   "execution_count": 103,
   "id": "d5347c6d-a5b3-42f1-9aad-1413fc0199f9",
   "metadata": {},
   "outputs": [
    {
     "data": {
      "text/html": [
       "<div>\n",
       "<style scoped>\n",
       "    .dataframe tbody tr th:only-of-type {\n",
       "        vertical-align: middle;\n",
       "    }\n",
       "\n",
       "    .dataframe tbody tr th {\n",
       "        vertical-align: top;\n",
       "    }\n",
       "\n",
       "    .dataframe thead th {\n",
       "        text-align: right;\n",
       "    }\n",
       "</style>\n",
       "<table border=\"1\" class=\"dataframe\">\n",
       "  <thead>\n",
       "    <tr style=\"text-align: right;\">\n",
       "      <th></th>\n",
       "      <th>bedroom</th>\n",
       "      <th>bathroom</th>\n",
       "      <th>square_ft</th>\n",
       "      <th>Chicago</th>\n",
       "      <th>New York</th>\n",
       "      <th>Texas</th>\n",
       "    </tr>\n",
       "  </thead>\n",
       "  <tbody>\n",
       "    <tr>\n",
       "      <th>0</th>\n",
       "      <td>1.609438</td>\n",
       "      <td>1.252763</td>\n",
       "      <td>1889.0</td>\n",
       "      <td>False</td>\n",
       "      <td>False</td>\n",
       "      <td>True</td>\n",
       "    </tr>\n",
       "    <tr>\n",
       "      <th>1</th>\n",
       "      <td>1.386294</td>\n",
       "      <td>0.693147</td>\n",
       "      <td>1228.0</td>\n",
       "      <td>False</td>\n",
       "      <td>False</td>\n",
       "      <td>True</td>\n",
       "    </tr>\n",
       "    <tr>\n",
       "      <th>2</th>\n",
       "      <td>1.098612</td>\n",
       "      <td>0.693147</td>\n",
       "      <td>1032.0</td>\n",
       "      <td>False</td>\n",
       "      <td>False</td>\n",
       "      <td>True</td>\n",
       "    </tr>\n",
       "    <tr>\n",
       "      <th>3</th>\n",
       "      <td>1.386294</td>\n",
       "      <td>1.098612</td>\n",
       "      <td>2331.0</td>\n",
       "      <td>False</td>\n",
       "      <td>False</td>\n",
       "      <td>True</td>\n",
       "    </tr>\n",
       "    <tr>\n",
       "      <th>4</th>\n",
       "      <td>1.609438</td>\n",
       "      <td>1.098612</td>\n",
       "      <td>1754.0</td>\n",
       "      <td>False</td>\n",
       "      <td>False</td>\n",
       "      <td>True</td>\n",
       "    </tr>\n",
       "    <tr>\n",
       "      <th>...</th>\n",
       "      <td>...</td>\n",
       "      <td>...</td>\n",
       "      <td>...</td>\n",
       "      <td>...</td>\n",
       "      <td>...</td>\n",
       "      <td>...</td>\n",
       "    </tr>\n",
       "    <tr>\n",
       "      <th>2582</th>\n",
       "      <td>1.386294</td>\n",
       "      <td>0.693147</td>\n",
       "      <td>1433.0</td>\n",
       "      <td>True</td>\n",
       "      <td>False</td>\n",
       "      <td>False</td>\n",
       "    </tr>\n",
       "    <tr>\n",
       "      <th>2583</th>\n",
       "      <td>1.386294</td>\n",
       "      <td>1.098612</td>\n",
       "      <td>1100.0</td>\n",
       "      <td>True</td>\n",
       "      <td>False</td>\n",
       "      <td>False</td>\n",
       "    </tr>\n",
       "    <tr>\n",
       "      <th>2585</th>\n",
       "      <td>1.791759</td>\n",
       "      <td>1.386294</td>\n",
       "      <td>2257.0</td>\n",
       "      <td>True</td>\n",
       "      <td>False</td>\n",
       "      <td>False</td>\n",
       "    </tr>\n",
       "    <tr>\n",
       "      <th>2586</th>\n",
       "      <td>1.386294</td>\n",
       "      <td>1.098612</td>\n",
       "      <td>1448.0</td>\n",
       "      <td>True</td>\n",
       "      <td>False</td>\n",
       "      <td>False</td>\n",
       "    </tr>\n",
       "    <tr>\n",
       "      <th>2587</th>\n",
       "      <td>1.386294</td>\n",
       "      <td>1.704748</td>\n",
       "      <td>3000.0</td>\n",
       "      <td>True</td>\n",
       "      <td>False</td>\n",
       "      <td>False</td>\n",
       "    </tr>\n",
       "  </tbody>\n",
       "</table>\n",
       "<p>2077 rows × 6 columns</p>\n",
       "</div>"
      ],
      "text/plain": [
       "       bedroom  bathroom  square_ft  Chicago  New York  Texas\n",
       "0     1.609438  1.252763     1889.0    False     False   True\n",
       "1     1.386294  0.693147     1228.0    False     False   True\n",
       "2     1.098612  0.693147     1032.0    False     False   True\n",
       "3     1.386294  1.098612     2331.0    False     False   True\n",
       "4     1.609438  1.098612     1754.0    False     False   True\n",
       "...        ...       ...        ...      ...       ...    ...\n",
       "2582  1.386294  0.693147     1433.0     True     False  False\n",
       "2583  1.386294  1.098612     1100.0     True     False  False\n",
       "2585  1.791759  1.386294     2257.0     True     False  False\n",
       "2586  1.386294  1.098612     1448.0     True     False  False\n",
       "2587  1.386294  1.704748     3000.0     True     False  False\n",
       "\n",
       "[2077 rows x 6 columns]"
      ]
     },
     "execution_count": 103,
     "metadata": {},
     "output_type": "execute_result"
    }
   ],
   "source": [
    "X"
   ]
  },
  {
   "cell_type": "code",
   "execution_count": 104,
   "id": "b4089d2f-652f-4d3e-8d22-c19aeeccb6d7",
   "metadata": {},
   "outputs": [
    {
     "data": {
      "text/plain": [
       "0       239000.0\n",
       "1       180000.0\n",
       "2       195000.0\n",
       "3       290000.0\n",
       "4       265000.0\n",
       "          ...   \n",
       "2582    319900.0\n",
       "2583    325000.0\n",
       "2585    585000.0\n",
       "2586    445000.0\n",
       "2587    639999.0\n",
       "Name: price, Length: 2077, dtype: float64"
      ]
     },
     "execution_count": 104,
     "metadata": {},
     "output_type": "execute_result"
    }
   ],
   "source": [
    "y"
   ]
  },
  {
   "cell_type": "code",
   "execution_count": 105,
   "id": "d8c8021a-731f-4a0f-8e92-7fc010041864",
   "metadata": {},
   "outputs": [],
   "source": [
    "from sklearn.model_selection import train_test_split"
   ]
  },
  {
   "cell_type": "code",
   "execution_count": 106,
   "id": "daa3b57b-df89-4c4c-9d50-92ac4a9d9075",
   "metadata": {},
   "outputs": [],
   "source": [
    "X_train, X_test, y_train, y_test = train_test_split(X, y, test_size=0.2, random_state=42)"
   ]
  },
  {
   "cell_type": "code",
   "execution_count": 107,
   "id": "5569189e-6f7e-497c-84fa-ade597a0ada3",
   "metadata": {},
   "outputs": [
    {
     "data": {
      "text/html": [
       "<div>\n",
       "<style scoped>\n",
       "    .dataframe tbody tr th:only-of-type {\n",
       "        vertical-align: middle;\n",
       "    }\n",
       "\n",
       "    .dataframe tbody tr th {\n",
       "        vertical-align: top;\n",
       "    }\n",
       "\n",
       "    .dataframe thead th {\n",
       "        text-align: right;\n",
       "    }\n",
       "</style>\n",
       "<table border=\"1\" class=\"dataframe\">\n",
       "  <thead>\n",
       "    <tr style=\"text-align: right;\">\n",
       "      <th></th>\n",
       "      <th>bedroom</th>\n",
       "      <th>bathroom</th>\n",
       "      <th>square_ft</th>\n",
       "      <th>Chicago</th>\n",
       "      <th>New York</th>\n",
       "      <th>Texas</th>\n",
       "    </tr>\n",
       "  </thead>\n",
       "  <tbody>\n",
       "    <tr>\n",
       "      <th>591</th>\n",
       "      <td>1.098612</td>\n",
       "      <td>0.693147</td>\n",
       "      <td>1008.0</td>\n",
       "      <td>False</td>\n",
       "      <td>False</td>\n",
       "      <td>False</td>\n",
       "    </tr>\n",
       "    <tr>\n",
       "      <th>1566</th>\n",
       "      <td>1.386294</td>\n",
       "      <td>1.252763</td>\n",
       "      <td>1440.0</td>\n",
       "      <td>False</td>\n",
       "      <td>True</td>\n",
       "      <td>False</td>\n",
       "    </tr>\n",
       "    <tr>\n",
       "      <th>318</th>\n",
       "      <td>1.386294</td>\n",
       "      <td>1.098612</td>\n",
       "      <td>1604.0</td>\n",
       "      <td>False</td>\n",
       "      <td>False</td>\n",
       "      <td>True</td>\n",
       "    </tr>\n",
       "    <tr>\n",
       "      <th>463</th>\n",
       "      <td>1.386294</td>\n",
       "      <td>1.098612</td>\n",
       "      <td>1443.0</td>\n",
       "      <td>False</td>\n",
       "      <td>False</td>\n",
       "      <td>True</td>\n",
       "    </tr>\n",
       "    <tr>\n",
       "      <th>889</th>\n",
       "      <td>1.386294</td>\n",
       "      <td>1.252763</td>\n",
       "      <td>2327.0</td>\n",
       "      <td>False</td>\n",
       "      <td>False</td>\n",
       "      <td>False</td>\n",
       "    </tr>\n",
       "    <tr>\n",
       "      <th>...</th>\n",
       "      <td>...</td>\n",
       "      <td>...</td>\n",
       "      <td>...</td>\n",
       "      <td>...</td>\n",
       "      <td>...</td>\n",
       "      <td>...</td>\n",
       "    </tr>\n",
       "    <tr>\n",
       "      <th>2058</th>\n",
       "      <td>1.386294</td>\n",
       "      <td>1.386294</td>\n",
       "      <td>1683.0</td>\n",
       "      <td>True</td>\n",
       "      <td>False</td>\n",
       "      <td>False</td>\n",
       "    </tr>\n",
       "    <tr>\n",
       "      <th>1336</th>\n",
       "      <td>1.386294</td>\n",
       "      <td>1.386294</td>\n",
       "      <td>1050.0</td>\n",
       "      <td>False</td>\n",
       "      <td>True</td>\n",
       "      <td>False</td>\n",
       "    </tr>\n",
       "    <tr>\n",
       "      <th>1379</th>\n",
       "      <td>1.386294</td>\n",
       "      <td>0.916291</td>\n",
       "      <td>2283.0</td>\n",
       "      <td>False</td>\n",
       "      <td>True</td>\n",
       "      <td>False</td>\n",
       "    </tr>\n",
       "    <tr>\n",
       "      <th>1596</th>\n",
       "      <td>1.386294</td>\n",
       "      <td>1.098612</td>\n",
       "      <td>1548.0</td>\n",
       "      <td>False</td>\n",
       "      <td>True</td>\n",
       "      <td>False</td>\n",
       "    </tr>\n",
       "    <tr>\n",
       "      <th>987</th>\n",
       "      <td>1.386294</td>\n",
       "      <td>1.609438</td>\n",
       "      <td>3364.0</td>\n",
       "      <td>False</td>\n",
       "      <td>False</td>\n",
       "      <td>False</td>\n",
       "    </tr>\n",
       "  </tbody>\n",
       "</table>\n",
       "<p>1661 rows × 6 columns</p>\n",
       "</div>"
      ],
      "text/plain": [
       "       bedroom  bathroom  square_ft  Chicago  New York  Texas\n",
       "591   1.098612  0.693147     1008.0    False     False  False\n",
       "1566  1.386294  1.252763     1440.0    False      True  False\n",
       "318   1.386294  1.098612     1604.0    False     False   True\n",
       "463   1.386294  1.098612     1443.0    False     False   True\n",
       "889   1.386294  1.252763     2327.0    False     False  False\n",
       "...        ...       ...        ...      ...       ...    ...\n",
       "2058  1.386294  1.386294     1683.0     True     False  False\n",
       "1336  1.386294  1.386294     1050.0    False      True  False\n",
       "1379  1.386294  0.916291     2283.0    False      True  False\n",
       "1596  1.386294  1.098612     1548.0    False      True  False\n",
       "987   1.386294  1.609438     3364.0    False     False  False\n",
       "\n",
       "[1661 rows x 6 columns]"
      ]
     },
     "execution_count": 107,
     "metadata": {},
     "output_type": "execute_result"
    }
   ],
   "source": [
    "X_train"
   ]
  },
  {
   "cell_type": "code",
   "execution_count": 108,
   "id": "cbef7167-0e2e-4c94-a74a-b4490386b6b0",
   "metadata": {},
   "outputs": [],
   "source": [
    "from sklearn.linear_model import LinearRegression"
   ]
  },
  {
   "cell_type": "code",
   "execution_count": 109,
   "id": "b142a2e0-a0e9-475d-901f-44e807144bc4",
   "metadata": {},
   "outputs": [],
   "source": [
    "reg = LinearRegression()"
   ]
  },
  {
   "cell_type": "code",
   "execution_count": 110,
   "id": "753cb78f-46fe-4072-af78-29d800dd9482",
   "metadata": {},
   "outputs": [
    {
     "data": {
      "text/html": [
       "<style>#sk-container-id-2 {\n",
       "  /* Definition of color scheme common for light and dark mode */\n",
       "  --sklearn-color-text: #000;\n",
       "  --sklearn-color-text-muted: #666;\n",
       "  --sklearn-color-line: gray;\n",
       "  /* Definition of color scheme for unfitted estimators */\n",
       "  --sklearn-color-unfitted-level-0: #fff5e6;\n",
       "  --sklearn-color-unfitted-level-1: #f6e4d2;\n",
       "  --sklearn-color-unfitted-level-2: #ffe0b3;\n",
       "  --sklearn-color-unfitted-level-3: chocolate;\n",
       "  /* Definition of color scheme for fitted estimators */\n",
       "  --sklearn-color-fitted-level-0: #f0f8ff;\n",
       "  --sklearn-color-fitted-level-1: #d4ebff;\n",
       "  --sklearn-color-fitted-level-2: #b3dbfd;\n",
       "  --sklearn-color-fitted-level-3: cornflowerblue;\n",
       "\n",
       "  /* Specific color for light theme */\n",
       "  --sklearn-color-text-on-default-background: var(--sg-text-color, var(--theme-code-foreground, var(--jp-content-font-color1, black)));\n",
       "  --sklearn-color-background: var(--sg-background-color, var(--theme-background, var(--jp-layout-color0, white)));\n",
       "  --sklearn-color-border-box: var(--sg-text-color, var(--theme-code-foreground, var(--jp-content-font-color1, black)));\n",
       "  --sklearn-color-icon: #696969;\n",
       "\n",
       "  @media (prefers-color-scheme: dark) {\n",
       "    /* Redefinition of color scheme for dark theme */\n",
       "    --sklearn-color-text-on-default-background: var(--sg-text-color, var(--theme-code-foreground, var(--jp-content-font-color1, white)));\n",
       "    --sklearn-color-background: var(--sg-background-color, var(--theme-background, var(--jp-layout-color0, #111)));\n",
       "    --sklearn-color-border-box: var(--sg-text-color, var(--theme-code-foreground, var(--jp-content-font-color1, white)));\n",
       "    --sklearn-color-icon: #878787;\n",
       "  }\n",
       "}\n",
       "\n",
       "#sk-container-id-2 {\n",
       "  color: var(--sklearn-color-text);\n",
       "}\n",
       "\n",
       "#sk-container-id-2 pre {\n",
       "  padding: 0;\n",
       "}\n",
       "\n",
       "#sk-container-id-2 input.sk-hidden--visually {\n",
       "  border: 0;\n",
       "  clip: rect(1px 1px 1px 1px);\n",
       "  clip: rect(1px, 1px, 1px, 1px);\n",
       "  height: 1px;\n",
       "  margin: -1px;\n",
       "  overflow: hidden;\n",
       "  padding: 0;\n",
       "  position: absolute;\n",
       "  width: 1px;\n",
       "}\n",
       "\n",
       "#sk-container-id-2 div.sk-dashed-wrapped {\n",
       "  border: 1px dashed var(--sklearn-color-line);\n",
       "  margin: 0 0.4em 0.5em 0.4em;\n",
       "  box-sizing: border-box;\n",
       "  padding-bottom: 0.4em;\n",
       "  background-color: var(--sklearn-color-background);\n",
       "}\n",
       "\n",
       "#sk-container-id-2 div.sk-container {\n",
       "  /* jupyter's `normalize.less` sets `[hidden] { display: none; }`\n",
       "     but bootstrap.min.css set `[hidden] { display: none !important; }`\n",
       "     so we also need the `!important` here to be able to override the\n",
       "     default hidden behavior on the sphinx rendered scikit-learn.org.\n",
       "     See: https://github.com/scikit-learn/scikit-learn/issues/21755 */\n",
       "  display: inline-block !important;\n",
       "  position: relative;\n",
       "}\n",
       "\n",
       "#sk-container-id-2 div.sk-text-repr-fallback {\n",
       "  display: none;\n",
       "}\n",
       "\n",
       "div.sk-parallel-item,\n",
       "div.sk-serial,\n",
       "div.sk-item {\n",
       "  /* draw centered vertical line to link estimators */\n",
       "  background-image: linear-gradient(var(--sklearn-color-text-on-default-background), var(--sklearn-color-text-on-default-background));\n",
       "  background-size: 2px 100%;\n",
       "  background-repeat: no-repeat;\n",
       "  background-position: center center;\n",
       "}\n",
       "\n",
       "/* Parallel-specific style estimator block */\n",
       "\n",
       "#sk-container-id-2 div.sk-parallel-item::after {\n",
       "  content: \"\";\n",
       "  width: 100%;\n",
       "  border-bottom: 2px solid var(--sklearn-color-text-on-default-background);\n",
       "  flex-grow: 1;\n",
       "}\n",
       "\n",
       "#sk-container-id-2 div.sk-parallel {\n",
       "  display: flex;\n",
       "  align-items: stretch;\n",
       "  justify-content: center;\n",
       "  background-color: var(--sklearn-color-background);\n",
       "  position: relative;\n",
       "}\n",
       "\n",
       "#sk-container-id-2 div.sk-parallel-item {\n",
       "  display: flex;\n",
       "  flex-direction: column;\n",
       "}\n",
       "\n",
       "#sk-container-id-2 div.sk-parallel-item:first-child::after {\n",
       "  align-self: flex-end;\n",
       "  width: 50%;\n",
       "}\n",
       "\n",
       "#sk-container-id-2 div.sk-parallel-item:last-child::after {\n",
       "  align-self: flex-start;\n",
       "  width: 50%;\n",
       "}\n",
       "\n",
       "#sk-container-id-2 div.sk-parallel-item:only-child::after {\n",
       "  width: 0;\n",
       "}\n",
       "\n",
       "/* Serial-specific style estimator block */\n",
       "\n",
       "#sk-container-id-2 div.sk-serial {\n",
       "  display: flex;\n",
       "  flex-direction: column;\n",
       "  align-items: center;\n",
       "  background-color: var(--sklearn-color-background);\n",
       "  padding-right: 1em;\n",
       "  padding-left: 1em;\n",
       "}\n",
       "\n",
       "\n",
       "/* Toggleable style: style used for estimator/Pipeline/ColumnTransformer box that is\n",
       "clickable and can be expanded/collapsed.\n",
       "- Pipeline and ColumnTransformer use this feature and define the default style\n",
       "- Estimators will overwrite some part of the style using the `sk-estimator` class\n",
       "*/\n",
       "\n",
       "/* Pipeline and ColumnTransformer style (default) */\n",
       "\n",
       "#sk-container-id-2 div.sk-toggleable {\n",
       "  /* Default theme specific background. It is overwritten whether we have a\n",
       "  specific estimator or a Pipeline/ColumnTransformer */\n",
       "  background-color: var(--sklearn-color-background);\n",
       "}\n",
       "\n",
       "/* Toggleable label */\n",
       "#sk-container-id-2 label.sk-toggleable__label {\n",
       "  cursor: pointer;\n",
       "  display: flex;\n",
       "  width: 100%;\n",
       "  margin-bottom: 0;\n",
       "  padding: 0.5em;\n",
       "  box-sizing: border-box;\n",
       "  text-align: center;\n",
       "  align-items: start;\n",
       "  justify-content: space-between;\n",
       "  gap: 0.5em;\n",
       "}\n",
       "\n",
       "#sk-container-id-2 label.sk-toggleable__label .caption {\n",
       "  font-size: 0.6rem;\n",
       "  font-weight: lighter;\n",
       "  color: var(--sklearn-color-text-muted);\n",
       "}\n",
       "\n",
       "#sk-container-id-2 label.sk-toggleable__label-arrow:before {\n",
       "  /* Arrow on the left of the label */\n",
       "  content: \"▸\";\n",
       "  float: left;\n",
       "  margin-right: 0.25em;\n",
       "  color: var(--sklearn-color-icon);\n",
       "}\n",
       "\n",
       "#sk-container-id-2 label.sk-toggleable__label-arrow:hover:before {\n",
       "  color: var(--sklearn-color-text);\n",
       "}\n",
       "\n",
       "/* Toggleable content - dropdown */\n",
       "\n",
       "#sk-container-id-2 div.sk-toggleable__content {\n",
       "  max-height: 0;\n",
       "  max-width: 0;\n",
       "  overflow: hidden;\n",
       "  text-align: left;\n",
       "  /* unfitted */\n",
       "  background-color: var(--sklearn-color-unfitted-level-0);\n",
       "}\n",
       "\n",
       "#sk-container-id-2 div.sk-toggleable__content.fitted {\n",
       "  /* fitted */\n",
       "  background-color: var(--sklearn-color-fitted-level-0);\n",
       "}\n",
       "\n",
       "#sk-container-id-2 div.sk-toggleable__content pre {\n",
       "  margin: 0.2em;\n",
       "  border-radius: 0.25em;\n",
       "  color: var(--sklearn-color-text);\n",
       "  /* unfitted */\n",
       "  background-color: var(--sklearn-color-unfitted-level-0);\n",
       "}\n",
       "\n",
       "#sk-container-id-2 div.sk-toggleable__content.fitted pre {\n",
       "  /* unfitted */\n",
       "  background-color: var(--sklearn-color-fitted-level-0);\n",
       "}\n",
       "\n",
       "#sk-container-id-2 input.sk-toggleable__control:checked~div.sk-toggleable__content {\n",
       "  /* Expand drop-down */\n",
       "  max-height: 200px;\n",
       "  max-width: 100%;\n",
       "  overflow: auto;\n",
       "}\n",
       "\n",
       "#sk-container-id-2 input.sk-toggleable__control:checked~label.sk-toggleable__label-arrow:before {\n",
       "  content: \"▾\";\n",
       "}\n",
       "\n",
       "/* Pipeline/ColumnTransformer-specific style */\n",
       "\n",
       "#sk-container-id-2 div.sk-label input.sk-toggleable__control:checked~label.sk-toggleable__label {\n",
       "  color: var(--sklearn-color-text);\n",
       "  background-color: var(--sklearn-color-unfitted-level-2);\n",
       "}\n",
       "\n",
       "#sk-container-id-2 div.sk-label.fitted input.sk-toggleable__control:checked~label.sk-toggleable__label {\n",
       "  background-color: var(--sklearn-color-fitted-level-2);\n",
       "}\n",
       "\n",
       "/* Estimator-specific style */\n",
       "\n",
       "/* Colorize estimator box */\n",
       "#sk-container-id-2 div.sk-estimator input.sk-toggleable__control:checked~label.sk-toggleable__label {\n",
       "  /* unfitted */\n",
       "  background-color: var(--sklearn-color-unfitted-level-2);\n",
       "}\n",
       "\n",
       "#sk-container-id-2 div.sk-estimator.fitted input.sk-toggleable__control:checked~label.sk-toggleable__label {\n",
       "  /* fitted */\n",
       "  background-color: var(--sklearn-color-fitted-level-2);\n",
       "}\n",
       "\n",
       "#sk-container-id-2 div.sk-label label.sk-toggleable__label,\n",
       "#sk-container-id-2 div.sk-label label {\n",
       "  /* The background is the default theme color */\n",
       "  color: var(--sklearn-color-text-on-default-background);\n",
       "}\n",
       "\n",
       "/* On hover, darken the color of the background */\n",
       "#sk-container-id-2 div.sk-label:hover label.sk-toggleable__label {\n",
       "  color: var(--sklearn-color-text);\n",
       "  background-color: var(--sklearn-color-unfitted-level-2);\n",
       "}\n",
       "\n",
       "/* Label box, darken color on hover, fitted */\n",
       "#sk-container-id-2 div.sk-label.fitted:hover label.sk-toggleable__label.fitted {\n",
       "  color: var(--sklearn-color-text);\n",
       "  background-color: var(--sklearn-color-fitted-level-2);\n",
       "}\n",
       "\n",
       "/* Estimator label */\n",
       "\n",
       "#sk-container-id-2 div.sk-label label {\n",
       "  font-family: monospace;\n",
       "  font-weight: bold;\n",
       "  display: inline-block;\n",
       "  line-height: 1.2em;\n",
       "}\n",
       "\n",
       "#sk-container-id-2 div.sk-label-container {\n",
       "  text-align: center;\n",
       "}\n",
       "\n",
       "/* Estimator-specific */\n",
       "#sk-container-id-2 div.sk-estimator {\n",
       "  font-family: monospace;\n",
       "  border: 1px dotted var(--sklearn-color-border-box);\n",
       "  border-radius: 0.25em;\n",
       "  box-sizing: border-box;\n",
       "  margin-bottom: 0.5em;\n",
       "  /* unfitted */\n",
       "  background-color: var(--sklearn-color-unfitted-level-0);\n",
       "}\n",
       "\n",
       "#sk-container-id-2 div.sk-estimator.fitted {\n",
       "  /* fitted */\n",
       "  background-color: var(--sklearn-color-fitted-level-0);\n",
       "}\n",
       "\n",
       "/* on hover */\n",
       "#sk-container-id-2 div.sk-estimator:hover {\n",
       "  /* unfitted */\n",
       "  background-color: var(--sklearn-color-unfitted-level-2);\n",
       "}\n",
       "\n",
       "#sk-container-id-2 div.sk-estimator.fitted:hover {\n",
       "  /* fitted */\n",
       "  background-color: var(--sklearn-color-fitted-level-2);\n",
       "}\n",
       "\n",
       "/* Specification for estimator info (e.g. \"i\" and \"?\") */\n",
       "\n",
       "/* Common style for \"i\" and \"?\" */\n",
       "\n",
       ".sk-estimator-doc-link,\n",
       "a:link.sk-estimator-doc-link,\n",
       "a:visited.sk-estimator-doc-link {\n",
       "  float: right;\n",
       "  font-size: smaller;\n",
       "  line-height: 1em;\n",
       "  font-family: monospace;\n",
       "  background-color: var(--sklearn-color-background);\n",
       "  border-radius: 1em;\n",
       "  height: 1em;\n",
       "  width: 1em;\n",
       "  text-decoration: none !important;\n",
       "  margin-left: 0.5em;\n",
       "  text-align: center;\n",
       "  /* unfitted */\n",
       "  border: var(--sklearn-color-unfitted-level-1) 1pt solid;\n",
       "  color: var(--sklearn-color-unfitted-level-1);\n",
       "}\n",
       "\n",
       ".sk-estimator-doc-link.fitted,\n",
       "a:link.sk-estimator-doc-link.fitted,\n",
       "a:visited.sk-estimator-doc-link.fitted {\n",
       "  /* fitted */\n",
       "  border: var(--sklearn-color-fitted-level-1) 1pt solid;\n",
       "  color: var(--sklearn-color-fitted-level-1);\n",
       "}\n",
       "\n",
       "/* On hover */\n",
       "div.sk-estimator:hover .sk-estimator-doc-link:hover,\n",
       ".sk-estimator-doc-link:hover,\n",
       "div.sk-label-container:hover .sk-estimator-doc-link:hover,\n",
       ".sk-estimator-doc-link:hover {\n",
       "  /* unfitted */\n",
       "  background-color: var(--sklearn-color-unfitted-level-3);\n",
       "  color: var(--sklearn-color-background);\n",
       "  text-decoration: none;\n",
       "}\n",
       "\n",
       "div.sk-estimator.fitted:hover .sk-estimator-doc-link.fitted:hover,\n",
       ".sk-estimator-doc-link.fitted:hover,\n",
       "div.sk-label-container:hover .sk-estimator-doc-link.fitted:hover,\n",
       ".sk-estimator-doc-link.fitted:hover {\n",
       "  /* fitted */\n",
       "  background-color: var(--sklearn-color-fitted-level-3);\n",
       "  color: var(--sklearn-color-background);\n",
       "  text-decoration: none;\n",
       "}\n",
       "\n",
       "/* Span, style for the box shown on hovering the info icon */\n",
       ".sk-estimator-doc-link span {\n",
       "  display: none;\n",
       "  z-index: 9999;\n",
       "  position: relative;\n",
       "  font-weight: normal;\n",
       "  right: .2ex;\n",
       "  padding: .5ex;\n",
       "  margin: .5ex;\n",
       "  width: min-content;\n",
       "  min-width: 20ex;\n",
       "  max-width: 50ex;\n",
       "  color: var(--sklearn-color-text);\n",
       "  box-shadow: 2pt 2pt 4pt #999;\n",
       "  /* unfitted */\n",
       "  background: var(--sklearn-color-unfitted-level-0);\n",
       "  border: .5pt solid var(--sklearn-color-unfitted-level-3);\n",
       "}\n",
       "\n",
       ".sk-estimator-doc-link.fitted span {\n",
       "  /* fitted */\n",
       "  background: var(--sklearn-color-fitted-level-0);\n",
       "  border: var(--sklearn-color-fitted-level-3);\n",
       "}\n",
       "\n",
       ".sk-estimator-doc-link:hover span {\n",
       "  display: block;\n",
       "}\n",
       "\n",
       "/* \"?\"-specific style due to the `<a>` HTML tag */\n",
       "\n",
       "#sk-container-id-2 a.estimator_doc_link {\n",
       "  float: right;\n",
       "  font-size: 1rem;\n",
       "  line-height: 1em;\n",
       "  font-family: monospace;\n",
       "  background-color: var(--sklearn-color-background);\n",
       "  border-radius: 1rem;\n",
       "  height: 1rem;\n",
       "  width: 1rem;\n",
       "  text-decoration: none;\n",
       "  /* unfitted */\n",
       "  color: var(--sklearn-color-unfitted-level-1);\n",
       "  border: var(--sklearn-color-unfitted-level-1) 1pt solid;\n",
       "}\n",
       "\n",
       "#sk-container-id-2 a.estimator_doc_link.fitted {\n",
       "  /* fitted */\n",
       "  border: var(--sklearn-color-fitted-level-1) 1pt solid;\n",
       "  color: var(--sklearn-color-fitted-level-1);\n",
       "}\n",
       "\n",
       "/* On hover */\n",
       "#sk-container-id-2 a.estimator_doc_link:hover {\n",
       "  /* unfitted */\n",
       "  background-color: var(--sklearn-color-unfitted-level-3);\n",
       "  color: var(--sklearn-color-background);\n",
       "  text-decoration: none;\n",
       "}\n",
       "\n",
       "#sk-container-id-2 a.estimator_doc_link.fitted:hover {\n",
       "  /* fitted */\n",
       "  background-color: var(--sklearn-color-fitted-level-3);\n",
       "}\n",
       "</style><div id=\"sk-container-id-2\" class=\"sk-top-container\"><div class=\"sk-text-repr-fallback\"><pre>LinearRegression()</pre><b>In a Jupyter environment, please rerun this cell to show the HTML representation or trust the notebook. <br />On GitHub, the HTML representation is unable to render, please try loading this page with nbviewer.org.</b></div><div class=\"sk-container\" hidden><div class=\"sk-item\"><div class=\"sk-estimator fitted sk-toggleable\"><input class=\"sk-toggleable__control sk-hidden--visually\" id=\"sk-estimator-id-2\" type=\"checkbox\" checked><label for=\"sk-estimator-id-2\" class=\"sk-toggleable__label fitted sk-toggleable__label-arrow\"><div><div>LinearRegression</div></div><div><a class=\"sk-estimator-doc-link fitted\" rel=\"noreferrer\" target=\"_blank\" href=\"https://scikit-learn.org/1.6/modules/generated/sklearn.linear_model.LinearRegression.html\">?<span>Documentation for LinearRegression</span></a><span class=\"sk-estimator-doc-link fitted\">i<span>Fitted</span></span></div></label><div class=\"sk-toggleable__content fitted\"><pre>LinearRegression()</pre></div> </div></div></div></div>"
      ],
      "text/plain": [
       "LinearRegression()"
      ]
     },
     "execution_count": 110,
     "metadata": {},
     "output_type": "execute_result"
    }
   ],
   "source": [
    "reg.fit(X_train, y_train)"
   ]
  },
  {
   "cell_type": "code",
   "execution_count": 111,
   "id": "5954a3cf-a2c2-4618-b4f9-2d386525a9b7",
   "metadata": {},
   "outputs": [],
   "source": [
    "y_pred = reg.predict(X_test)"
   ]
  },
  {
   "cell_type": "code",
   "execution_count": 112,
   "id": "db1cd3eb-5aa5-4464-9b38-5722d2a49403",
   "metadata": {},
   "outputs": [
    {
     "data": {
      "text/plain": [
       "array([ 203765.91047564,  719916.74751358,  118774.22716154,\n",
       "        415865.86107667,  335363.48004764,  699899.74659002,\n",
       "        818198.272609  ,  768557.78560697,  680612.53581451,\n",
       "        289073.92841954,  247179.38543736,  892263.58617379,\n",
       "        669642.39892643,  614608.84124792,  213002.26417694,\n",
       "        258022.72913043,  313905.40132952,  844131.12636942,\n",
       "        851092.13781589,  423711.41341119,  453110.58608695,\n",
       "        280249.62998309,  306267.89726715,  497790.18384589,\n",
       "        639356.42650648,  323964.92539479,  447572.34706525,\n",
       "        271267.23091612,  774774.47397603,  333847.84120879,\n",
       "        268559.66930533,  393364.44519381,  239904.73713695,\n",
       "        373316.03139503,  428221.95233317,  426771.1789329 ,\n",
       "        419702.79507631,  648839.95097205,  717082.89671407,\n",
       "        395689.00635667,  108068.14098358,  471228.10782993,\n",
       "        322441.43170977,  795679.22353838,  298292.92564568,\n",
       "        763793.87276786,  397392.85154938,  246493.09786185,\n",
       "        590776.08275422,  831649.50908901,  631058.36800942,\n",
       "        674229.27053631,  276717.43133073,  309016.36829881,\n",
       "        667043.32273337,  488367.11051648,  705939.07725451,\n",
       "        370083.45046909,  896700.75465352,  385579.88865672,\n",
       "        738417.23058645,  385599.730575  ,  263650.28724961,\n",
       "        606613.61135526,  809962.82170288,  500943.98167836,\n",
       "        782966.50396307,  676965.60424447,  801624.70942307,\n",
       "        486809.58263773,  769789.78251327,  688034.90595011,\n",
       "        255365.91956015,  536639.86679251,  410171.83619942,\n",
       "        178960.79911214,  599850.71581599,  349366.7570092 ,\n",
       "        341254.52787263,  836125.26249704,  620358.01981717,\n",
       "        263513.02973451,  830551.44896819,  801527.55209743,\n",
       "        614608.84124792,  305307.09466143,  298297.7700707 ,\n",
       "        239138.2573663 ,  591050.59778443,  171677.33421786,\n",
       "        262520.33864084,  695641.44289224,  263101.25718921,\n",
       "        367461.89666325,  778751.62118437,  374005.32939169,\n",
       "        412619.61913183,  819202.48795002,  290415.50269452,\n",
       "        560030.39937136,  339610.75842103,  324172.03481575,\n",
       "        803374.46097798,  275384.95636918,  202846.92746953,\n",
       "        742338.27949285,  853876.40994167,  355082.65586015,\n",
       "        413526.20689672,  896661.63282978,  797967.67329866,\n",
       "        374609.62773783,  955196.90974591,  388622.4063284 ,\n",
       "        395139.97629626,  337141.64684459,  310713.88234075,\n",
       "        813331.69839621,  415378.80517942,  482975.18880875,\n",
       "        449484.35512384,  595371.41408288,  228241.1690829 ,\n",
       "        638256.83325319,  827340.7815305 ,  282070.47441972,\n",
       "        292670.58667816,  778025.23341939,  282238.64080375,\n",
       "        763653.29452314,  267210.16604839,  347158.12471742,\n",
       "        347299.07768879,  346882.08599181,  241824.7410289 ,\n",
       "        238805.07569665,  902283.38477624,  788085.13221131,\n",
       "        756790.41876803,  182666.7520199 ,  525327.88094892,\n",
       "        357991.1281212 ,  359921.54992651,  718180.95683488,\n",
       "        475754.28509868,  353775.76690822,  355671.41138337,\n",
       "        754239.43351445,  405973.72283648,  556545.21690346,\n",
       "        431452.55721297,  215747.41447899,  276003.4636088 ,\n",
       "        236492.16281195,  558609.88580272,  337010.57022886,\n",
       "        491676.15685052,  908788.23257638,  765657.79405931,\n",
       "        816634.69535254,  367472.23695252,  746155.52917942,\n",
       "        452089.1228959 ,  776821.19937906,  431452.55721297,\n",
       "        622060.44647114,  271267.23091612,  811326.58026002,\n",
       "        906180.33978944,  867875.1433496 ,  346956.31207221,\n",
       "        539307.83532056,  466504.2869965 ,  412297.16568402,\n",
       "        852724.60523051,  385646.13586014,  914019.65521529,\n",
       "        406348.71592194,  815811.15026193,  823631.8182016 ,\n",
       "        695670.72435814,  469523.95232874,  269552.360399  ,\n",
       "        369335.56345707,  238532.16198593,  346882.08599181,\n",
       "        414346.43125771,  387652.41240215,  529633.92734958,\n",
       "        461697.14895304,  513836.34774013,  942734.25154189,\n",
       "        627924.93092927,  220881.2108235 ,  844417.77872312,\n",
       "        669551.54669646,  555590.22047048,  454425.62566751,\n",
       "        273875.12370306,  438503.75391567,  136480.44660971,\n",
       "        563041.24810972,  340780.19414311,  315189.63574878,\n",
       "        580166.02155117, 1023142.67439597,  642060.34426833,\n",
       "        246552.06160386,  278679.13673163,  515166.61997812,\n",
       "        300709.81632718,   78149.32342095,  681915.69138203,\n",
       "        350876.58967532,  262305.39224502,  612312.05575533,\n",
       "        698386.59319428,  285542.01248673,  700846.26013974,\n",
       "        436119.31272644,  484073.24892956,  431506.94137509,\n",
       "        313519.69322813,  297745.41928067,  740668.10971685,\n",
       "        733597.2194454 ,  262305.39224502,  793491.91989063,\n",
       "        295427.8743037 ,  130432.29935134,  825790.84867492,\n",
       "        312102.19008065,  426531.75154133,  746224.9108348 ,\n",
       "        486269.3691712 ,  215875.85540021,  503480.3031493 ,\n",
       "        349627.23629386,  241828.06175852,  624347.41894274,\n",
       "        193101.64389728,  447648.94399502,  451964.58754852,\n",
       "        373804.4008701 ,  728997.72119164,  545367.47815382,\n",
       "        196121.30922953,  592701.00869527,  154598.43860319,\n",
       "        904570.83829947,  586694.12752305,  695870.72163443,\n",
       "        513807.06627422,  367461.89666325,  816948.99409687,\n",
       "        697505.67449215,  393975.44941738,  293846.94057207,\n",
       "        293709.68305697,  785256.4689845 ,  875240.64387998,\n",
       "        934667.34174645,  338165.38536117,  326307.49447205,\n",
       "        328427.01778392,  447572.34706525,  639448.75602512,\n",
       "        554078.2770879 ,  192415.35632177,  190632.60994493,\n",
       "        432336.76288892,  828027.06910601,  852870.67933949,\n",
       "        438698.54700123,  155039.4926144 ,  451131.44530506,\n",
       "       1047974.17336104,  505311.38431055,  592733.45818754,\n",
       "        678072.48095917,  851954.80473024,  750544.44893307,\n",
       "        322043.69491001,  388177.43058865,  509319.81511447,\n",
       "        286764.8180725 ,  227759.91935838,  600327.35379988,\n",
       "        409760.06365412,  647342.69099546,  414423.80874644,\n",
       "        521947.50650386,  385451.4477355 ,  446400.60491198,\n",
       "        428149.56025665,  361573.85925941,  607253.80503763,\n",
       "        458904.06023339,  292258.81413286,  824907.73494992,\n",
       "        844398.30209442,  840159.47502534,  334780.68094854,\n",
       "        577736.61881952,  774774.47397603,  793566.61622151,\n",
       "        248879.25846122,  404314.69104649,  289376.40631571,\n",
       "        762063.26966187,  269552.360399  ,  284303.68442966,\n",
       "        484415.6398195 ,  684164.41877993,  680268.6012008 ,\n",
       "        464723.26002979,  250336.30828471,  881336.72955596,\n",
       "        337074.24123535,  277846.40032049,  492639.21730387,\n",
       "        399794.009642  ,  306200.11693126,  188157.05262398,\n",
       "        602257.77560519,  140040.32540849,  328489.57896814,\n",
       "        496891.9424244 ,  499225.32018113,  260658.30206379,\n",
       "        320679.93635287,  284092.84040595,  489155.09771796,\n",
       "        775789.02117208,  455601.06327706,  158578.90654115,\n",
       "        444140.9091877 ,  515493.27827918,  852512.65138452,\n",
       "        313391.25230691,  306954.18484266,  657124.37691283,\n",
       "        568540.36530768,  576734.58367362,  574030.66591177,\n",
       "        518974.24645675,  561524.0761384 ,  381736.67823387,\n",
       "        537108.39434931,  301314.11467332,  524975.98842999,\n",
       "        363764.76034937,  794664.67634233,  286563.47567778,\n",
       "        670935.09017386,  886267.65037328,  707720.10422122,\n",
       "        513437.54056753,  474181.89124834,  433365.34583052,\n",
       "        291023.12177029,  283717.56460094,  412297.16568402,\n",
       "        657550.22492808,  490652.79306059,  675052.81562692,\n",
       "        750751.08810354,  287661.5357986 ,  237295.24303053,\n",
       "        737671.52397938,  237569.75806073,  881336.72955596,\n",
       "        516546.41040354,  604170.56422274,  496778.31780769,\n",
       "        374887.46349766,  230080.78506496,  290140.98766432,\n",
       "        699759.1683453 ,  310522.88023531,  604186.08669404,\n",
       "        536138.77514971,  669843.23192418,  664624.56520879,\n",
       "        377524.63775051,  349463.91433484,  260003.29808387,\n",
       "        529493.54481959,  418475.16296528,  466996.44745169,\n",
       "        267218.98264227,  425748.40216402,  895274.43491216,\n",
       "        785986.16929531,  126323.39049216,  340368.4215978 ,\n",
       "        750742.27150966,  266316.76905191,  541657.32039282,\n",
       "        364470.88984316,  282787.67086416,  658585.2345443 ,\n",
       "        336592.99151083,  468691.59064425,  478574.1317316 ,\n",
       "        328697.93754875,  590856.58525783,  479123.16179201,\n",
       "        435209.57355322,  308533.49468799,  747192.89495911,\n",
       "        570328.65233366,  777104.53100314,  384436.90053945,\n",
       "        297745.41928067,  431452.55721297])"
      ]
     },
     "execution_count": 112,
     "metadata": {},
     "output_type": "execute_result"
    }
   ],
   "source": [
    "y_pred"
   ]
  },
  {
   "cell_type": "code",
   "execution_count": 113,
   "id": "acf03f9f-40e9-4885-83f5-bf7e3995d8da",
   "metadata": {},
   "outputs": [],
   "source": [
    "from sklearn.metrics import r2_score"
   ]
  },
  {
   "cell_type": "code",
   "execution_count": 114,
   "id": "882bb161-a55c-477c-8a22-98e07084d11b",
   "metadata": {},
   "outputs": [
    {
     "data": {
      "text/plain": [
       "0.6565388846158318"
      ]
     },
     "execution_count": 114,
     "metadata": {},
     "output_type": "execute_result"
    }
   ],
   "source": [
    "r2_score(y_test, y_pred)"
   ]
  },
  {
   "cell_type": "code",
   "execution_count": 115,
   "id": "0a4eba52-05aa-4499-bfc0-664ca6fb52c6",
   "metadata": {},
   "outputs": [],
   "source": [
    "import pickle"
   ]
  },
  {
   "cell_type": "code",
   "execution_count": 116,
   "id": "31e3df67-136a-4624-b2a8-3f2f459cd4d6",
   "metadata": {},
   "outputs": [],
   "source": [
    "with open('model.pkl', 'wb') as fp:\n",
    "    pickle.dump(reg, fp)"
   ]
  },
  {
   "cell_type": "code",
   "execution_count": null,
   "id": "51bf8044-3b4d-409b-bfa8-f8590f8cdd57",
   "metadata": {},
   "outputs": [],
   "source": []
  }
 ],
 "metadata": {
  "kernelspec": {
   "display_name": "Python 3 (ipykernel)",
   "language": "python",
   "name": "python3"
  },
  "language_info": {
   "codemirror_mode": {
    "name": "ipython",
    "version": 3
   },
   "file_extension": ".py",
   "mimetype": "text/x-python",
   "name": "python",
   "nbconvert_exporter": "python",
   "pygments_lexer": "ipython3",
   "version": "3.13.4"
  }
 },
 "nbformat": 4,
 "nbformat_minor": 5
}
